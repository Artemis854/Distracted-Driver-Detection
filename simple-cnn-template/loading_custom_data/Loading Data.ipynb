{
 "cells": [
  {
   "cell_type": "code",
   "execution_count": 1,
   "metadata": {},
   "outputs": [],
   "source": [
    "import numpy as np\n",
    "import matplotlib.pyplot as plt\n",
    "import os\n",
    "import cv2\n",
    "\n",
    "DATADIR = \"/home/kaushal/Datasets/CatVsDogData/PetImages/\"\n",
    "CATEGORIES = [\"Dog\", \"Cat\"]\n",
    "IMG_SIZE = 50"
   ]
  },
  {
   "cell_type": "code",
   "execution_count": 16,
   "metadata": {},
   "outputs": [],
   "source": [
    "training_data = []\n",
    "\n",
    "def create_training_data():\n",
    "    for category in CATEGORIES:\n",
    "        path = os.path.join(DATADIR, category) # Path to Cat and Dog iamge directories\n",
    "        class_num = CATEGORIES.index(category)\n",
    "        for img in os.listdir(path):\n",
    "            try:\n",
    "                img_array = cv2.imread(os.path.join(path, img), cv2.IMREAD_GRAYSCALE)\n",
    "                img_array_normalized = cv2.resize(img_array, (IMG_SIZE, IMG_SIZE))\n",
    "                training_data.append([img_array_normalized, class_num])\n",
    "            except Exception as e:\n",
    "                pass\n",
    "        \n",
    "create_training_data()"
   ]
  },
  {
   "cell_type": "code",
   "execution_count": 22,
   "metadata": {},
   "outputs": [],
   "source": [
    "import random\n",
    "\n",
    "random.shuffle(training_data)"
   ]
  },
  {
   "cell_type": "code",
   "execution_count": 24,
   "metadata": {},
   "outputs": [],
   "source": [
    "# Feature set from training data\n",
    "X = []\n",
    "\n",
    "# Labels from training data\n",
    "y = []"
   ]
  },
  {
   "cell_type": "code",
   "execution_count": 25,
   "metadata": {},
   "outputs": [],
   "source": [
    "for features, label in training_data:\n",
    "    X.append(features)\n",
    "    y.append(label)\n",
    "    \n",
    "# X must be a numpy array to be passed in for training, lists do not work\n",
    "# reshape(feature set size, data size x, data size y, data size z)\n",
    "X = np.array(X).reshape(-1, IMG_SIZE, IMG_SIZE, 1)"
   ]
  },
  {
   "cell_type": "code",
   "execution_count": 28,
   "metadata": {},
   "outputs": [],
   "source": [
    "import pickle\n",
    "\n",
    "pickle_out = open(\"X.pickle\", \"wb\")\n",
    "pickle.dump(X, pickle_out)\n",
    "pickle_out.close()\n",
    "\n",
    "pickle_out = open(\"y.pickle\", \"wb\")\n",
    "pickle.dump(y, pickle_out)\n",
    "pickle_out.close()"
   ]
  },
  {
   "cell_type": "code",
   "execution_count": 30,
   "metadata": {},
   "outputs": [
    {
     "data": {
      "text/plain": [
       "array([[[217],\n",
       "        [234],\n",
       "        [239],\n",
       "        ...,\n",
       "        [113],\n",
       "        [113],\n",
       "        [114]],\n",
       "\n",
       "       [[217],\n",
       "        [231],\n",
       "        [236],\n",
       "        ...,\n",
       "        [107],\n",
       "        [108],\n",
       "        [109]],\n",
       "\n",
       "       [[214],\n",
       "        [229],\n",
       "        [235],\n",
       "        ...,\n",
       "        [ 99],\n",
       "        [ 98],\n",
       "        [103]],\n",
       "\n",
       "       ...,\n",
       "\n",
       "       [[206],\n",
       "        [215],\n",
       "        [217],\n",
       "        ...,\n",
       "        [ 67],\n",
       "        [ 73],\n",
       "        [ 81]],\n",
       "\n",
       "       [[158],\n",
       "        [168],\n",
       "        [169],\n",
       "        ...,\n",
       "        [ 66],\n",
       "        [ 70],\n",
       "        [ 75]],\n",
       "\n",
       "       [[143],\n",
       "        [156],\n",
       "        [173],\n",
       "        ...,\n",
       "        [ 70],\n",
       "        [ 71],\n",
       "        [ 67]]], dtype=uint8)"
      ]
     },
     "execution_count": 30,
     "metadata": {},
     "output_type": "execute_result"
    }
   ],
   "source": []
  },
  {
   "cell_type": "code",
   "execution_count": null,
   "metadata": {},
   "outputs": [],
   "source": []
  }
 ],
 "metadata": {
  "kernelspec": {
   "display_name": "Distracted-Driver-Detection",
   "language": "python",
   "name": "distracted-driver-detection"
  },
  "language_info": {
   "codemirror_mode": {
    "name": "ipython",
    "version": 3
   },
   "file_extension": ".py",
   "mimetype": "text/x-python",
   "name": "python",
   "nbconvert_exporter": "python",
   "pygments_lexer": "ipython3",
   "version": "3.7.5"
  }
 },
 "nbformat": 4,
 "nbformat_minor": 2
}
