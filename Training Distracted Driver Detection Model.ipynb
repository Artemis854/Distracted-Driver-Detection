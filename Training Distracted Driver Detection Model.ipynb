{
 "cells": [
  {
   "cell_type": "code",
   "execution_count": 0,
   "metadata": {
    "colab": {},
    "colab_type": "code",
    "id": "sMag8uYEtArc"
   },
   "outputs": [],
   "source": [
    "%tensorflow_version 2.x\n",
    "from google.colab import drive\n",
    "import tensorflow as tf\n",
    "from tensorflow.keras.models import Sequential, load_model\n",
    "from tensorflow.keras.layers import Dense, Dropout, Activation, Flatten, Conv2D, MaxPooling2D, ZeroPadding2D\n",
    "# more info on callbakcs: https://keras.io/callbacks/ model saver is cool too.\n",
    "from tensorflow.keras.callbacks import TensorBoard\n",
    "import pickle\n",
    "import time\n",
    "\n",
    "NAME = \"DDD-cnn-{}\".format(int(time.time()))\n",
    "tensorboard = TensorBoard(log_dir='logs/{}'.format(NAME))"
   ]
  },
  {
   "cell_type": "code",
   "execution_count": 0,
   "metadata": {
    "colab": {},
    "colab_type": "code",
    "id": "KdkGPT1_tf09"
   },
   "outputs": [],
   "source": [
    "pickle_in = open(\"drive/My Drive/Colab Notebooks/assets/x_train.pickle\",\"rb\")\n",
    "x_train = pickle.load(pickle_in)\n",
    "\n",
    "pickle_in = open(\"drive/My Drive/Colab Notebooks/assets/y_train.pickle\",\"rb\")\n",
    "y_train = pickle.load(pickle_in)\n",
    "\n",
    "pickle_in = open(\"drive/My Drive/Colab Notebooks/assets/x_validation.pickle\",\"rb\")\n",
    "x_validation = pickle.load(pickle_in)\n",
    "\n",
    "pickle_in = open(\"drive/My Drive/Colab Notebooks/assets/y_validation.pickle\",\"rb\")\n",
    "y_validation = pickle.load(pickle_in)\n",
    "\n",
    "x_train = x_train/255.0\n",
    "x_validation = x_validation/255.0"
   ]
  },
  {
   "cell_type": "code",
   "execution_count": 15,
   "metadata": {
    "colab": {
     "base_uri": "https://localhost:8080/",
     "height": 51
    },
    "colab_type": "code",
    "executionInfo": {
     "elapsed": 4163,
     "status": "ok",
     "timestamp": 1574354958014,
     "user": {
      "displayName": "Kaushal Patel",
      "photoUrl": "",
      "userId": "02563416999312886284"
     },
     "user_tz": 300
    },
    "id": "ufbIjVbztsrU",
    "outputId": "e7e18adb-a474-47fb-9d5b-40a4749cdd77"
   },
   "outputs": [
    {
     "name": "stdout",
     "output_type": "stream",
     "text": [
      "WARNING:tensorflow:Large dropout rate: 0.6 (>0.5). In TensorFlow 2.x, dropout() uses dropout rate instead of keep_prob. Please ensure that this is intended.\n",
      "WARNING:tensorflow:Large dropout rate: 0.6 (>0.5). In TensorFlow 2.x, dropout() uses dropout rate instead of keep_prob. Please ensure that this is intended.\n"
     ]
    }
   ],
   "source": [
    "# Convert to Keras\n",
    "\n",
    "model = Sequential()\n",
    "\n",
    "model.add(ZeroPadding2D((1,1), input_shape=x_train.shape[1:]))\n",
    "\n",
    "model.add(Conv2D(32, 2, activation='relu'))\n",
    "model.add(MaxPooling2D((2, 2)))\n",
    "\n",
    "model.add(Conv2D(64, 2, activation='relu'))\n",
    "model.add(MaxPooling2D((2, 2)))\n",
    "\n",
    "model.add(Conv2D(128, 2, activation='relu'))\n",
    "model.add(MaxPooling2D((2, 2)))\n",
    "\n",
    "model.add(Conv2D(64, 2, activation='relu'))\n",
    "model.add(MaxPooling2D((2, 2)))\n",
    "\n",
    "model.add(Conv2D(32, 2, activation='relu'))\n",
    "model.add(MaxPooling2D((2, 2)))\n",
    "\n",
    "model.add(Flatten())\n",
    "model.add(Dense(1024))\n",
    "model.add(Activation('relu'))\n",
    "model.add(Dropout(0.6))\n",
    "\n",
    "model.add(Flatten())\n",
    "model.add(Dense(512))\n",
    "model.add(Activation('relu'))\n",
    "model.add(Dropout(0.6))\n",
    "\n",
    "model.add(Flatten())\n",
    "model.add(Dense(10))\n",
    "model.add(Activation('softmax'))\n",
    "\n",
    "model.compile(loss='sparse_categorical_crossentropy',\n",
    "              optimizer='adam',\n",
    "              metrics=['accuracy'])"
   ]
  },
  {
   "cell_type": "code",
   "execution_count": 16,
   "metadata": {
    "colab": {
     "base_uri": "https://localhost:8080/",
     "height": 479
    },
    "colab_type": "code",
    "executionInfo": {
     "elapsed": 92427,
     "status": "ok",
     "timestamp": 1574355054670,
     "user": {
      "displayName": "Kaushal Patel",
      "photoUrl": "",
      "userId": "02563416999312886284"
     },
     "user_tz": 300
    },
    "id": "Wmh0oDZTO-Lu",
    "outputId": "fb8dcf68-d7d6-483e-fc2a-9ecaaa3ba7c2"
   },
   "outputs": [
    {
     "name": "stdout",
     "output_type": "stream",
     "text": [
      "Train on 15424 samples, validate on 15424 samples\n",
      "Epoch 1/10\n",
      "WARNING:tensorflow:Large dropout rate: 0.6 (>0.5). In TensorFlow 2.x, dropout() uses dropout rate instead of keep_prob. Please ensure that this is intended.\n",
      "WARNING:tensorflow:Large dropout rate: 0.6 (>0.5). In TensorFlow 2.x, dropout() uses dropout rate instead of keep_prob. Please ensure that this is intended.\n",
      "WARNING:tensorflow:Large dropout rate: 0.6 (>0.5). In TensorFlow 2.x, dropout() uses dropout rate instead of keep_prob. Please ensure that this is intended.\n",
      "   32/15424 [..............................] - ETA: 40:17 - loss: 2.3090 - accuracy: 0.0625WARNING:tensorflow:Method (on_train_batch_end) is slow compared to the batch update (0.232181). Check your callbacks.\n",
      "15424/15424 [==============================] - 14s 905us/sample - loss: 1.7290 - accuracy: 0.3402 - val_loss: 0.6508 - val_accuracy: 0.8109\n",
      "Epoch 2/10\n",
      "15424/15424 [==============================] - 9s 560us/sample - loss: 0.4797 - accuracy: 0.8494 - val_loss: 0.1586 - val_accuracy: 0.9557\n",
      "Epoch 3/10\n",
      "15424/15424 [==============================] - 9s 562us/sample - loss: 0.2283 - accuracy: 0.9292 - val_loss: 0.0860 - val_accuracy: 0.9777\n",
      "Epoch 4/10\n",
      "15424/15424 [==============================] - 9s 562us/sample - loss: 0.1433 - accuracy: 0.9568 - val_loss: 0.0498 - val_accuracy: 0.9859\n",
      "Epoch 5/10\n",
      "15424/15424 [==============================] - 9s 561us/sample - loss: 0.1232 - accuracy: 0.9630 - val_loss: 0.0535 - val_accuracy: 0.9837\n",
      "Epoch 6/10\n",
      "15424/15424 [==============================] - 9s 579us/sample - loss: 0.1055 - accuracy: 0.9675 - val_loss: 0.0438 - val_accuracy: 0.9866\n",
      "Epoch 7/10\n",
      "15424/15424 [==============================] - 9s 565us/sample - loss: 0.0907 - accuracy: 0.9729 - val_loss: 0.0369 - val_accuracy: 0.9879\n",
      "Epoch 8/10\n",
      "15424/15424 [==============================] - 9s 560us/sample - loss: 0.0867 - accuracy: 0.9759 - val_loss: 0.0164 - val_accuracy: 0.9950\n",
      "Epoch 9/10\n",
      "15424/15424 [==============================] - 9s 559us/sample - loss: 0.0644 - accuracy: 0.9799 - val_loss: 0.0228 - val_accuracy: 0.9932\n",
      "Epoch 10/10\n",
      "15424/15424 [==============================] - 9s 554us/sample - loss: 0.0717 - accuracy: 0.9780 - val_loss: 0.0228 - val_accuracy: 0.9928\n"
     ]
    },
    {
     "data": {
      "text/plain": [
       "<tensorflow.python.keras.callbacks.History at 0x7f87ee1a2e48>"
      ]
     },
     "execution_count": 16,
     "metadata": {
      "tags": []
     },
     "output_type": "execute_result"
    }
   ],
   "source": [
    "model.fit(x_train, y_train, batch_size=32, epochs=10, validation_data=(x_validation, y_validation), callbacks=[tensorboard])"
   ]
  },
  {
   "cell_type": "code",
   "execution_count": 0,
   "metadata": {
    "colab": {
     "base_uri": "https://localhost:8080/",
     "height": 105
    },
    "colab_type": "code",
    "executionInfo": {
     "elapsed": 2025,
     "status": "ok",
     "timestamp": 1573777827620,
     "user": {
      "displayName": "Kaushal Patel",
      "photoUrl": "https://lh3.googleusercontent.com/-Io8LQqbmwPk/AAAAAAAAAAI/AAAAAAAAETs/-0QzjC-pp2U/s64/photo.jpg",
      "userId": "15083128513829562095"
     },
     "user_tz": 300
    },
    "id": "nsNl6tloRBCF",
    "outputId": "ada40444-36ad-4c05-900a-3f1753b45f12"
   },
   "outputs": [
    {
     "name": "stdout",
     "output_type": "stream",
     "text": [
      "WARNING:tensorflow:From /tensorflow-2.0.0/python3.6/tensorflow_core/python/ops/resource_variable_ops.py:1781: calling BaseResourceVariable.__init__ (from tensorflow.python.ops.resource_variable_ops) with constraint is deprecated and will be removed in a future version.\n",
      "Instructions for updating:\n",
      "If using Keras pass *_constraint arguments to layers.\n",
      "INFO:tensorflow:Assets written to: DDD.model/assets\n"
     ]
    }
   ],
   "source": [
    "model.save('DDD.model')"
   ]
  },
  {
   "cell_type": "code",
   "execution_count": 0,
   "metadata": {
    "colab": {},
    "colab_type": "code",
    "id": "oEWesBof39LI"
   },
   "outputs": [],
   "source": []
  }
 ],
 "metadata": {
  "accelerator": "GPU",
  "colab": {
   "name": "Training Distracted Driver Detection Model.ipynb",
   "provenance": []
  },
  "kernelspec": {
   "display_name": "Python 3",
   "language": "python",
   "name": "python3"
  },
  "language_info": {
   "codemirror_mode": {
    "name": "ipython",
    "version": 3
   },
   "file_extension": ".py",
   "mimetype": "text/x-python",
   "name": "python",
   "nbconvert_exporter": "python",
   "pygments_lexer": "ipython3",
   "version": "3.7.5"
  }
 },
 "nbformat": 4,
 "nbformat_minor": 1
}
